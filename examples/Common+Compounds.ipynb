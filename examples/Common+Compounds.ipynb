{
 "cells": [
  {
   "cell_type": "markdown",
   "metadata": {},
   "source": [
    "### Step 1: Download data from the ToxRefDB API\n",
    "\n",
    "We use the requests module to perform a normal HTTP GET request. The structure of the API is documented at the [official documentation](https://toxrefdb-api.cloud.douglasconnect.com/). We check if the status code is 200 (HTTP OK), then decode the returned Json and extract an array of compounds containing cas number and chemical name."
   ]
  },
  {
   "cell_type": "code",
   "execution_count": 1,
   "metadata": {
    "collapsed": false
   },
   "outputs": [
    {
     "name": "stdout",
     "output_type": "stream",
     "text": [
      "ToxRefDB Status code: 200\n",
      "980 compounds ingested from ToxRefDB\n"
     ]
    }
   ],
   "source": [
    "import requests\n",
    "r = requests.get('https://toxrefdb-api.cloud.douglasconnect.com/beta/compounds?limit=10000')\n",
    "print(\"ToxRefDB Status code: {0}\".format(r.status_code))\n",
    "if r.status_code == 200:\n",
    "    result = r.json()\n",
    "    toxRefCompounds =[{'cas': result['casNumber'], 'chemicalName' : result['chemicalName']} for result in result['compounds'] ]\n",
    "    toxRefCasNrs = set(compound['cas'] for compound in toxRefCompounds)\n",
    "    print(\"{0} compounds ingested from ToxRefDB\".format(len(toxRefCasNrs)))"
   ]
  },
  {
   "cell_type": "markdown",
   "metadata": {},
   "source": [
    "### Step 2: Download data from the ToxCast API\n",
    "\n",
    "Same as above, but for the ToxCast API"
   ]
  },
  {
   "cell_type": "code",
   "execution_count": 2,
   "metadata": {
    "collapsed": false
   },
   "outputs": [
    {
     "name": "stdout",
     "output_type": "stream",
     "text": [
      "ToxCast Status code: 200\n",
      "9086 compounds ingested from ToxCast\n"
     ]
    }
   ],
   "source": [
    "import requests\n",
    "r = requests.get('https://toxcast-api.cloud.douglasconnect.com/beta/compounds?limit=10000')\n",
    "print(\"ToxCast Status code: {0}\".format(r.status_code))\n",
    "if r.status_code == 200:\n",
    "    result = r.json()\n",
    "    toxCastCompounds =[{'cas': result['casn'], 'chemicalName' : result['chnm']} for result in result['compounds'] ]\n",
    "    toxCastCasNrs = set(compound['cas'] for compound in toxCastCompounds)\n",
    "    print(\"{0} compounds ingested from ToxCast\".format(len(toxCastCasNrs)))"
   ]
  },
  {
   "cell_type": "markdown",
   "metadata": {},
   "source": [
    "### Step 3: Compute set intersection, use results\n",
    "\n",
    "In this simple example we just output the number of items that are in both ToxRefDB and ToxCast and show the names of the first 3 compounds."
   ]
  },
  {
   "cell_type": "code",
   "execution_count": 3,
   "metadata": {
    "collapsed": false
   },
   "outputs": [
    {
     "name": "stdout",
     "output_type": "stream",
     "text": [
      "ToxRefDB and ToxCast share 790 compounds (by CAS number)\n",
      "The first 3 compound names from the set of shared compounds are: Tebuthiuron, Hexythiazox, Triflumizole\n"
     ]
    }
   ],
   "source": [
    "sharedCasNrs = toxCastCasNrs.intersection(toxRefCasNrs)\n",
    "\n",
    "sharedCompounds = [ compound for compound in toxRefCompounds if compound['cas'] in sharedCasNrs ]\n",
    "print(\"ToxRefDB and ToxCast share {0} compounds (by CAS number)\".format(len(sharedCompounds)))\n",
    "\n",
    "firstThreeCompoundNames = map(lambda comp: comp['chemicalName'], sharedCompounds[:3])\n",
    "print(\"The first 3 compound names from the set of shared compounds are: {0}\".format(\", \".join(firstThreeCompoundNames)))"
   ]
  },
  {
   "cell_type": "code",
   "execution_count": null,
   "metadata": {
    "collapsed": true
   },
   "outputs": [],
   "source": []
  }
 ],
 "metadata": {
  "kernelspec": {
   "display_name": "Python 3",
   "language": "python",
   "name": "python3"
  },
  "language_info": {
   "codemirror_mode": {
    "name": "ipython",
    "version": 3
   },
   "file_extension": ".py",
   "mimetype": "text/x-python",
   "name": "python",
   "nbconvert_exporter": "python",
   "pygments_lexer": "ipython3",
   "version": "3.5.2"
  }
 },
 "nbformat": 4,
 "nbformat_minor": 0
}
